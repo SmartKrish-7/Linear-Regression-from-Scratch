{
 "cells": [
  {
   "cell_type": "code",
   "execution_count": 17,
   "id": "91daec23-6fd2-4d04-818e-a1ccbf3e5637",
   "metadata": {},
   "outputs": [],
   "source": [
    "import pandas as pd\n",
    "import matplotlib.pyplot as plt"
   ]
  },
  {
   "cell_type": "code",
   "execution_count": 35,
   "id": "35f14c7b-d42b-4e57-bd4e-c2ad16bbf20d",
   "metadata": {},
   "outputs": [],
   "source": [
    "df = pd.read_csv(\"train.csv\")"
   ]
  },
  {
   "cell_type": "code",
   "execution_count": 36,
   "id": "63772f97-abd0-4e8d-af17-3de289afec2d",
   "metadata": {},
   "outputs": [
    {
     "data": {
      "text/html": [
       "<div>\n",
       "<style scoped>\n",
       "    .dataframe tbody tr th:only-of-type {\n",
       "        vertical-align: middle;\n",
       "    }\n",
       "\n",
       "    .dataframe tbody tr th {\n",
       "        vertical-align: top;\n",
       "    }\n",
       "\n",
       "    .dataframe thead th {\n",
       "        text-align: right;\n",
       "    }\n",
       "</style>\n",
       "<table border=\"1\" class=\"dataframe\">\n",
       "  <thead>\n",
       "    <tr style=\"text-align: right;\">\n",
       "      <th></th>\n",
       "      <th>x</th>\n",
       "      <th>y</th>\n",
       "    </tr>\n",
       "  </thead>\n",
       "  <tbody>\n",
       "    <tr>\n",
       "      <th>0</th>\n",
       "      <td>24.0</td>\n",
       "      <td>21.549452</td>\n",
       "    </tr>\n",
       "    <tr>\n",
       "      <th>1</th>\n",
       "      <td>50.0</td>\n",
       "      <td>47.464463</td>\n",
       "    </tr>\n",
       "    <tr>\n",
       "      <th>2</th>\n",
       "      <td>15.0</td>\n",
       "      <td>17.218656</td>\n",
       "    </tr>\n",
       "    <tr>\n",
       "      <th>3</th>\n",
       "      <td>38.0</td>\n",
       "      <td>36.586398</td>\n",
       "    </tr>\n",
       "    <tr>\n",
       "      <th>4</th>\n",
       "      <td>87.0</td>\n",
       "      <td>87.288984</td>\n",
       "    </tr>\n",
       "  </tbody>\n",
       "</table>\n",
       "</div>"
      ],
      "text/plain": [
       "      x          y\n",
       "0  24.0  21.549452\n",
       "1  50.0  47.464463\n",
       "2  15.0  17.218656\n",
       "3  38.0  36.586398\n",
       "4  87.0  87.288984"
      ]
     },
     "execution_count": 36,
     "metadata": {},
     "output_type": "execute_result"
    }
   ],
   "source": [
    "df.head()"
   ]
  },
  {
   "cell_type": "code",
   "execution_count": 37,
   "id": "fb1d7bfa-6f9f-4c53-9375-9ecba085bd9f",
   "metadata": {},
   "outputs": [
    {
     "data": {
      "text/plain": [
       "(700, 2)"
      ]
     },
     "execution_count": 37,
     "metadata": {},
     "output_type": "execute_result"
    }
   ],
   "source": [
    "df.shape"
   ]
  },
  {
   "cell_type": "code",
   "execution_count": 38,
   "id": "90ce4584-9c19-48e6-86e4-41ada3293f41",
   "metadata": {},
   "outputs": [
    {
     "data": {
      "text/plain": [
       "x    0\n",
       "y    1\n",
       "dtype: int64"
      ]
     },
     "execution_count": 38,
     "metadata": {},
     "output_type": "execute_result"
    }
   ],
   "source": [
    "df.isnull().sum()"
   ]
  },
  {
   "cell_type": "code",
   "execution_count": 39,
   "id": "2a5196d7-3f80-4b91-99ea-b80599d016e5",
   "metadata": {},
   "outputs": [],
   "source": [
    "df.dropna(axis=0, ignore_index=True, inplace = True)"
   ]
  },
  {
   "cell_type": "code",
   "execution_count": 40,
   "id": "5d957c79-7fab-402d-97cd-9a115a1f5aaf",
   "metadata": {},
   "outputs": [
    {
     "data": {
      "text/plain": [
       "x    0\n",
       "y    0\n",
       "dtype: int64"
      ]
     },
     "execution_count": 40,
     "metadata": {},
     "output_type": "execute_result"
    }
   ],
   "source": [
    "df.isnull().sum()"
   ]
  },
  {
   "cell_type": "code",
   "execution_count": 41,
   "id": "495fcbf9-3884-4215-aad2-a7ea5157e70a",
   "metadata": {},
   "outputs": [
    {
     "data": {
      "text/plain": [
       "(699, 2)"
      ]
     },
     "execution_count": 41,
     "metadata": {},
     "output_type": "execute_result"
    }
   ],
   "source": [
    "df.shape"
   ]
  },
  {
   "cell_type": "code",
   "execution_count": 42,
   "id": "3ad3daa3-4d08-40c7-aaa5-582bca22546a",
   "metadata": {},
   "outputs": [
    {
     "data": {
      "text/plain": [
       "0    24.0\n",
       "1    50.0\n",
       "2    15.0\n",
       "3    38.0\n",
       "4    87.0\n",
       "Name: x, dtype: float64"
      ]
     },
     "execution_count": 42,
     "metadata": {},
     "output_type": "execute_result"
    }
   ],
   "source": [
    "df['x'].head()"
   ]
  },
  {
   "cell_type": "code",
   "execution_count": 43,
   "id": "8bf18520-222d-40ba-889a-f55721e4cee4",
   "metadata": {},
   "outputs": [
    {
     "data": {
      "text/plain": [
       "0    21.549452\n",
       "1    47.464463\n",
       "2    17.218656\n",
       "3    36.586398\n",
       "4    87.288984\n",
       "Name: y, dtype: float64"
      ]
     },
     "execution_count": 43,
     "metadata": {},
     "output_type": "execute_result"
    }
   ],
   "source": [
    "df['y'].head()"
   ]
  },
  {
   "cell_type": "code",
   "execution_count": 44,
   "id": "bb559b8c-c19c-4993-8fa8-c74d9a20d7ae",
   "metadata": {},
   "outputs": [
    {
     "data": {
      "image/png": "[encoded data removed]",
      "text/plain": [
       "<Figure size 640x480 with 1 Axes>"
      ]
     },
     "metadata": {},
     "output_type": "display_data"
    }
   ],
   "source": [
    "plt.scatter(df['x'], df['y'], s = 7)\n",
    "plt.title(\"Univariate Data\")\n",
    "plt.xlabel(\"x\")\n",
    "plt.ylabel(\"y\")\n",
    "plt.show()"
   ]
  },
  {
   "cell_type": "code",
   "execution_count": 45,
   "id": "e77b0fbb-654a-4fb0-b9b5-844f410609ec",
   "metadata": {},
   "outputs": [],
   "source": [
    "def compute_cost(x, y, w, b):\n",
    "    m = x.shape[0]\n",
    "    total_cost = 0\n",
    "    for i in range(m):\n",
    "        f_wb = w*x[i]+b\n",
    "        total_cost += (f_wb-y[i])**2\n",
    "    total_cost = total_cost /(2*m)\n",
    "    return total_cost"
   ]
  },
  {
   "cell_type": "code",
   "execution_count": 67,
   "id": "11531d67-827a-451c-a479-963c92df5137",
   "metadata": {},
   "outputs": [
    {
     "name": "stdout",
     "output_type": "stream",
     "text": [
      "6.085701102559542\n"
     ]
    }
   ],
   "source": [
    "w_init = 1\n",
    "b_init = 2\n",
    "result = compute_cost(df[\"x\"], df[\"y\"], w_init, b_init)\n",
    "print(result)"
   ]
  },
  {
   "cell_type": "code",
   "execution_count": 50,
   "id": "949bf8b6-3e6a-4dc6-bf4f-4505606b6ad9",
   "metadata": {},
   "outputs": [],
   "source": [
    "def compute_gradient(x, y, w, b):\n",
    "    m = x.shape[0]\n",
    "    dj_dw = 0\n",
    "    dj_db = 0\n",
    "\n",
    "    for i in range(m):\n",
    "        dj_dw += (w*x[i]+b-y[i])*x[i]\n",
    "        dj_db += (w*x[i]+b-y[i])\n",
    "    dj_dw = dj_dw/m\n",
    "    dj_db = dj_dw/m\n",
    "\n",
    "    return dj_dw, dj_db"
   ]
  },
  {
   "cell_type": "code",
   "execution_count": 71,
   "id": "a31a6531-7ff0-4cfb-8e65-e89030bd4868",
   "metadata": {},
   "outputs": [],
   "source": [
    "def gradient_descent(x, y, w, b, alpha, iteration, compute_cost, compute_gradient):\n",
    "    m = x.shape[0]\n",
    "    cost = []\n",
    "    iterations = []\n",
    "\n",
    "    for i in range(iteration):\n",
    "        dj_dw, dj_db = compute_gradient(x, y, w, b)\n",
    "        w = w - (alpha*dj_dw)\n",
    "        b = b - (alpha*dj_db)\n",
    "        cost.append(compute_cost(x, y, w, b))\n",
    "        iterations.append(i)\n",
    "\n",
    "        if i%10==0:\n",
    "            print(f\"Iteration {i:4}: Cost {cost[-1]:0.2e} \",\n",
    "                  f\"dj_dw: {dj_dw: 0.3e}, dj_db: {dj_db: 0.3e}  \",\n",
    "                  f\"w: {w: 0.3e}, b:{b: 0.5e}\")\n",
    "\n",
    "    return w, b, cost, iterations\n",
    "        "
   ]
  },
  {
   "cell_type": "code",
   "execution_count": 72,
   "id": "c2ca7510-3297-4ddb-9882-d8e2dfd92bc6",
   "metadata": {},
   "outputs": [
    {
     "name": "stdout",
     "output_type": "stream",
     "text": [
      "Iteration    0: Cost 5.20e+00  dj_dw:  1.032e+02, dj_db:  1.476e-01   w:  9.897e-01, b: 1.99999e+00\n",
      "Iteration   10: Cost 4.49e+00  dj_dw:  1.775e+00, dj_db:  2.540e-03   w:  9.694e-01, b: 1.99996e+00\n",
      "Iteration   20: Cost 4.49e+00  dj_dw:  3.054e-02, dj_db:  4.369e-05   w:  9.691e-01, b: 1.99996e+00\n",
      "Iteration   30: Cost 4.49e+00  dj_dw:  5.254e-04, dj_db:  7.517e-07   w:  9.691e-01, b: 1.99996e+00\n",
      "Iteration   40: Cost 4.49e+00  dj_dw:  9.039e-06, dj_db:  1.293e-08   w:  9.691e-01, b: 1.99996e+00\n",
      "Iteration   50: Cost 4.49e+00  dj_dw:  1.555e-07, dj_db:  2.225e-10   w:  9.691e-01, b: 1.99996e+00\n",
      "Iteration   60: Cost 4.49e+00  dj_dw:  2.675e-09, dj_db:  3.827e-12   w:  9.691e-01, b: 1.99996e+00\n",
      "Iteration   70: Cost 4.49e+00  dj_dw:  4.633e-11, dj_db:  6.628e-14   w:  9.691e-01, b: 1.99996e+00\n",
      "Iteration   80: Cost 4.49e+00  dj_dw:  7.052e-13, dj_db:  1.009e-15   w:  9.691e-01, b: 1.99996e+00\n",
      "Iteration   90: Cost 4.49e+00  dj_dw:  3.170e-13, dj_db:  4.535e-16   w:  9.691e-01, b: 1.99996e+00\n"
     ]
    }
   ],
   "source": [
    "w, b, cost, iterations = gradient_descent(df[\"x\"], df[\"y\"], w_init, b_init, 0.0001, 100, compute_cost, compute_gradient) "
   ]
  },
  {
   "cell_type": "code",
   "execution_count": 65,
   "id": "44fd678e-ecd0-40b7-a645-4b50e3340edf",
   "metadata": {},
   "outputs": [
    {
     "name": "stdout",
     "output_type": "stream",
     "text": [
      "w_final found:   0.9691 and b_final found:   2.0000\n"
     ]
    }
   ],
   "source": [
    "print(f\"w_final found: {w:8.4f} and b_final found: {b:8.4f}\")"
   ]
  },
  {
   "cell_type": "markdown",
   "id": "fcd4bceb-002c-456b-a9cf-e25097c3e2e3",
   "metadata": {},
   "source": [
    "### Cost vs Iteration Graph"
   ]
  },
  {
   "cell_type": "code",
   "execution_count": 73,
   "id": "e5b81a89-faa6-4410-be97-03fef05077d3",
   "metadata": {},
   "outputs": [
    {
     "data": {
      "text/plain": [
       "Text(0, 0.5, 'Cost')"
      ]
     },
     "execution_count": 73,
     "metadata": {},
     "output_type": "execute_result"
    },
    {
     "data": {
      "image/png": "[encoded data removed]",
      "text/plain": [
       "<Figure size 640x480 with 1 Axes>"
      ]
     },
     "metadata": {},
     "output_type": "display_data"
    }
   ],
   "source": [
    "plt.plot(iterations, cost)\n",
    "plt.title(\"Gradient Descent\")\n",
    "plt.xlabel(\"Iterations\")\n",
    "plt.ylabel(\"Cost\")"
   ]
  },
  {
   "cell_type": "markdown",
   "id": "dc6d1864-e417-44d5-a098-c750cb0e054a",
   "metadata": {},
   "source": [
    "### Fitting Line"
   ]
  },
  {
   "cell_type": "code",
   "execution_count": 77,
   "id": "6b10acea-937c-457d-b454-b5ad29cf72e4",
   "metadata": {},
   "outputs": [],
   "source": [
    "import numpy as np\n",
    "m = x.shape[0]\n",
    "prediction = np.zeros(m)\n",
    "for i in range(m):\n",
    "    prediction[i] = w*df[\"x\"][i]+b"
   ]
  },
  {
   "cell_type": "code",
   "execution_count": 78,
   "id": "c61fe225-1ded-4a27-ade0-1f53dd2b3949",
   "metadata": {},
   "outputs": [
    {
     "data": {
      "text/plain": [
       "[<matplotlib.lines.Line2D at 0x14fa11e3050>]"
      ]
     },
     "execution_count": 78,
     "metadata": {},
     "output_type": "execute_result"
    },
    {
     "data": {
      "image/png": "[encoded data removed]",
      "text/plain": [
       "<Figure size 640x480 with 1 Axes>"
      ]
     },
     "metadata": {},
     "output_type": "display_data"
    }
   ],
   "source": [
    "plt.plot(df[\"x\"], prediction, c = 'red')"
   ]
  },
  {
   "cell_type": "code",
   "execution_count": 80,
   "id": "a784a3d8-c803-486a-b552-484d9ab2c909",
   "metadata": {},
   "outputs": [
    {
     "data": {
      "image/png": "[encoded data removed]",
      "text/plain": [
       "<Figure size 640x480 with 1 Axes>"
      ]
     },
     "metadata": {},
     "output_type": "display_data"
    }
   ],
   "source": [
    "plt.scatter(df[\"x\"], df[\"y\"], s = 7, label =\"train_data\")\n",
    "plt.plot(df[\"x\"], prediction, c=\"red\", label=\"fitted_line\")\n",
    "plt.title(\"Fitted Line\")\n",
    "plt.xlabel(\"X\")\n",
    "plt.ylabel(\"Y\")\n",
    "plt.legend()\n",
    "plt.show()"
   ]
  },
  {
   "cell_type": "code",
   "execution_count": 81,
   "id": "ca98c6db-758b-466e-b0b1-4d778d4908ce",
   "metadata": {},
   "outputs": [],
   "source": [
    "test = pd.read_csv(\"test.csv\")"
   ]
  },
  {
   "cell_type": "code",
   "execution_count": 82,
   "id": "bc962beb-8e15-44e4-83f5-44c3908646eb",
   "metadata": {},
   "outputs": [
    {
     "data": {
      "text/html": [
       "<div>\n",
       "<style scoped>\n",
       "    .dataframe tbody tr th:only-of-type {\n",
       "        vertical-align: middle;\n",
       "    }\n",
       "\n",
       "    .dataframe tbody tr th {\n",
       "        vertical-align: top;\n",
       "    }\n",
       "\n",
       "    .dataframe thead th {\n",
       "        text-align: right;\n",
       "    }\n",
       "</style>\n",
       "<table border=\"1\" class=\"dataframe\">\n",
       "  <thead>\n",
       "    <tr style=\"text-align: right;\">\n",
       "      <th></th>\n",
       "      <th>x</th>\n",
       "      <th>y</th>\n",
       "    </tr>\n",
       "  </thead>\n",
       "  <tbody>\n",
       "    <tr>\n",
       "      <th>0</th>\n",
       "      <td>77</td>\n",
       "      <td>79.775152</td>\n",
       "    </tr>\n",
       "    <tr>\n",
       "      <th>1</th>\n",
       "      <td>21</td>\n",
       "      <td>23.177279</td>\n",
       "    </tr>\n",
       "    <tr>\n",
       "      <th>2</th>\n",
       "      <td>22</td>\n",
       "      <td>25.609262</td>\n",
       "    </tr>\n",
       "    <tr>\n",
       "      <th>3</th>\n",
       "      <td>20</td>\n",
       "      <td>17.857388</td>\n",
       "    </tr>\n",
       "    <tr>\n",
       "      <th>4</th>\n",
       "      <td>36</td>\n",
       "      <td>41.849864</td>\n",
       "    </tr>\n",
       "  </tbody>\n",
       "</table>\n",
       "</div>"
      ],
      "text/plain": [
       "    x          y\n",
       "0  77  79.775152\n",
       "1  21  23.177279\n",
       "2  22  25.609262\n",
       "3  20  17.857388\n",
       "4  36  41.849864"
      ]
     },
     "execution_count": 82,
     "metadata": {},
     "output_type": "execute_result"
    }
   ],
   "source": [
    "test.head()"
   ]
  },
  {
   "cell_type": "code",
   "execution_count": 83,
   "id": "0280fefb-9fab-40e9-8f2d-60b6e882e10f",
   "metadata": {},
   "outputs": [
    {
     "data": {
      "text/plain": [
       "(300, 2)"
      ]
     },
     "execution_count": 83,
     "metadata": {},
     "output_type": "execute_result"
    }
   ],
   "source": [
    "test.shape"
   ]
  },
  {
   "cell_type": "code",
   "execution_count": 84,
   "id": "bf7e7e89-6e19-4622-8351-c99f6967821c",
   "metadata": {},
   "outputs": [],
   "source": [
    "n = test.shape[0]\n",
    "test_prediction = np.zeros(n)\n",
    "for i in range(n):\n",
    "    test_prediction[i] = w*test[\"x\"][i]+b"
   ]
  },
  {
   "cell_type": "code",
   "execution_count": 85,
   "id": "bdbdb427-2ef3-47eb-9ac4-3cb327b338aa",
   "metadata": {},
   "outputs": [
    {
     "data": {
      "text/plain": [
       "np.float64(16.536288933718065)"
      ]
     },
     "execution_count": 85,
     "metadata": {},
     "output_type": "execute_result"
    }
   ],
   "source": [
    "test_prediction[5]"
   ]
  },
  {
   "cell_type": "markdown",
   "id": "c10b10c1-438f-4152-8a79-208757525d8a",
   "metadata": {},
   "source": [
    "## Model Evaluation"
   ]
  },
  {
   "cell_type": "markdown",
   "id": "2db512c9-01d9-4929-8fe3-a4894ddef571",
   "metadata": {},
   "source": [
    "#### Mean-Squared Error"
   ]
  },
  {
   "cell_type": "code",
   "execution_count": 91,
   "id": "f1148be0-13a1-45c8-89c1-25adab9a1f98",
   "metadata": {},
   "outputs": [
    {
     "name": "stdout",
     "output_type": "stream",
     "text": [
      "MSE:  10.846785590939673\n"
     ]
    }
   ],
   "source": [
    "mse = 0\n",
    "for i in range(n):\n",
    "    mse = mse + (test[\"y\"][i] - test_prediction[i])**2\n",
    "mse = mse/n\n",
    "print(\"MSE: \", mse)"
   ]
  },
  {
   "cell_type": "markdown",
   "id": "b7fe2947-41eb-44c0-8506-1251d7a2dc2b",
   "metadata": {},
   "source": [
    "#### R-Squared Accuracy"
   ]
  },
  {
   "cell_type": "code",
   "execution_count": 96,
   "id": "1cbb9add-8ada-4f93-8b98-11b6a3f627ca",
   "metadata": {},
   "outputs": [
    {
     "name": "stdout",
     "output_type": "stream",
     "text": [
      "y mean:  51.20505109827666\n",
      "Model Accuracy:  98.71229372305619\n"
     ]
    }
   ],
   "source": [
    "err_n = 0\n",
    "err_d = 0\n",
    "y_mean = np.mean(test[\"y\"])\n",
    "print(\"y mean: \",y_mean)\n",
    "for i in range(n):\n",
    "    err_n = err_n + (test[\"y\"][i] - test_prediction[i])**2\n",
    "    err_d = err_d + (test[\"y\"][i] - y_mean)**2\n",
    "\n",
    "error = 1-(err_n/err_d)\n",
    "print(\"Model Accuracy: \", error*100)"
   ]
  },
  {
   "cell_type": "code",
   "execution_count": null,
   "id": "b2bd4278-e847-4bb8-aa3b-83e6264f0cb2",
   "metadata": {},
   "outputs": [],
   "source": []
  }
 ],
 "metadata": {
  "kernelspec": {
   "display_name": "Python 3 (ipykernel)",
   "language": "python",
   "name": "python3"
  },
  "language_info": {
   "codemirror_mode": {
    "name": "ipython",
    "version": 3
   },
   "file_extension": ".py",
   "mimetype": "text/x-python",
   "name": "python",
   "nbconvert_exporter": "python",
   "pygments_lexer": "ipython3",
   "version": "3.12.6"
  }
 },
 "nbformat": 4,
 "nbformat_minor": 5
}
